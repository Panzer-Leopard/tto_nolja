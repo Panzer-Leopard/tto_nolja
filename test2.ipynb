print("ㅁㄴㅇㄹ")
print("asdf")
print("test")